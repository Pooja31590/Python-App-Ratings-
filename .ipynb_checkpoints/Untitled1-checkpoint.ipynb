{
 "cells": [
  {
   "cell_type": "code",
   "execution_count": 6,
   "metadata": {},
   "outputs": [
    {
     "name": "stdout",
     "output_type": "stream",
     "text": [
      "success\n",
      "Delhi has Red fort\n",
      "Mumbai has Gateway Of India\n",
      "Chennai has Marina Beach\n",
      "Jaipur has Ameer fort\n"
     ]
    }
   ],
   "source": [
    "places=['Delhi','Mumbai','Chennai','Jaipur']\n",
    "attractions=['Red fort','Gateway Of India','Marina Beach','Ameer fort']\n",
    "if len(places)== len(attractions):\n",
    "    print(\"success\")\n",
    "    print(places[0],\"has\",attractions[0])\n",
    "    print(places[1],\"has\",attractions[1])\n",
    "    print(places[2],\"has\",attractions[2])\n",
    "    print(places[3],\"has\",attractions[3])\n",
    "    \n",
    "    if len(places)==len(attractions): \n",
    "    i=input(\"Enter the name of the state?\")\n",
    "    for i in places():\n",
    "        print(attractions[0])\n",
    "else:\n",
    "    print(\"Failure\")\n",
    "    "
   ]
  },
  {
   "cell_type": "code",
   "execution_count": 2,
   "metadata": {},
   "outputs": [
    {
     "name": "stdout",
     "output_type": "stream",
     "text": [
      "hello world\n",
      "11\n"
     ]
    }
   ],
   "source": [
    "a=\"hello world\"\n",
    "print(a)\n",
    "a=11\n",
    "print(a)"
   ]
  },
  {
   "cell_type": "code",
   "execution_count": null,
   "metadata": {},
   "outputs": [],
   "source": [
    "list1=[]\n",
    "a=int(input(\"Please enter the value in the list:\"))\n",
    "while i in range(0,n):\n",
    "    e=int(input(\"please enter value:\"))\n",
    "    list1.append(e)\n",
    "    avg=sum(list1)/n\n",
    "    print(avg)"
   ]
  },
  {
   "cell_type": "code",
   "execution_count": 5,
   "metadata": {},
   "outputs": [
    {
     "name": "stdout",
     "output_type": "stream",
     "text": [
      "Enter the number of elements to be inserted: 5\n",
      "Enter element: 1\n",
      "Enter element: 2\n",
      "Enter element: 3\n",
      "Enter element: 4\n",
      "Enter element: 5\n",
      "Average of elements in the list 3.0\n"
     ]
    }
   ],
   "source": [
    "n=int(input(\"Enter the number of elements to be inserted: \"))\n",
    "a=[]\n",
    "for i in range(0,n):\n",
    "    elem=int(input(\"Enter element: \"))\n",
    "    a.append(elem)\n",
    "avg=sum(a)/n\n",
    "print(\"Average of elements in the list\",round(avg,2))"
   ]
  },
  {
   "cell_type": "code",
   "execution_count": 7,
   "metadata": {},
   "outputs": [
    {
     "name": "stdout",
     "output_type": "stream",
     "text": [
      "Please enter the value in the list:6\n",
      "please enter value:4\n",
      "please enter value:4\n",
      "please enter value:4\n",
      "please enter value:4\n",
      "please enter value:4\n",
      "4.0\n"
     ]
    }
   ],
   "source": [
    "a=int(input(\"Please enter the value in the list:\"))\n",
    "list1=[]\n",
    "for i in range(0,n):\n",
    "    e=int(input(\"please enter value:\"))\n",
    "    list1.append(e)\n",
    "avg=sum(list1)/n\n",
    "print(round(avg,2))"
   ]
  },
  {
   "cell_type": "markdown",
   "metadata": {},
   "source": [
    "n=int(input(\"Enter the number of elements to be inserted: \"))\n",
    "a=[]\n",
    "for i in range(0,n):\n",
    "    elem=int(input(\"Enter element: \"))\n",
    "    a.append(elem)\n",
    "avg=sum(a)/n\n",
    "print(\"Average of elements in the list\",round(avg,2))"
   ]
  },
  {
   "cell_type": "code",
   "execution_count": 8,
   "metadata": {},
   "outputs": [
    {
     "data": {
      "text/plain": [
       "(2, 4)"
      ]
     },
     "execution_count": 8,
     "metadata": {},
     "output_type": "execute_result"
    }
   ],
   "source": [
    "t=(1,2,4,3)\n",
    "t[1:-1]"
   ]
  },
  {
   "cell_type": "code",
   "execution_count": 12,
   "metadata": {},
   "outputs": [
    {
     "name": "stdout",
     "output_type": "stream",
     "text": [
      "Please enter the value of a:5\n",
      "Please enter the value of b:10\n",
      "The value of a is: 10\n",
      "The value of b is: 5\n"
     ]
    }
   ],
   "source": [
    "a=int(input(\"Please enter the value of a:\"))\n",
    "b=int(input(\"Please enter the value of b:\"))\n",
    "a=a+b\n",
    "b=a-b\n",
    "a=a-b\n",
    "print(\"The value of a is:\",a)\n",
    "print(\"The value of b is:\",b)"
   ]
  },
  {
   "cell_type": "code",
   "execution_count": 28,
   "metadata": {},
   "outputs": [
    {
     "name": "stdout",
     "output_type": "stream",
     "text": [
      "Please enter the employee id : 101\n",
      "Please enter employee name : Amit\n",
      "Please enter the employee id : 102\n",
      "Please enter employee name : Sumit\n",
      "Please enter the employee id : 103\n",
      "Please enter employee name : Suman\n",
      "Please enter the employee id : -999\n",
      "{101: 'Amit', 102: 'Sumit', 103: 'Suman'}\n",
      "Please enter the employee id to search name : 101\n",
      "name of employee is  Amit\n",
      "Please enter the name so that I can find all emp ids : Suman\n",
      "list of emp ids for  Suman is [103]\n"
     ]
    }
   ],
   "source": [
    "# 1st question\n",
    "# create a dictionary having emp id as key and name of employee as value. keep on taking inputs from the user till\n",
    "# user enters -999 for emp id\n",
    "# dictionary should look like this {101:'Amit', 102:'Sumit', 103:'AMIT', 104:'Suman'}\n",
    "#2nd question\n",
    "# take input from user any emp id and print name of employee. if emp id does not exist, print \"not found\"\n",
    "#3rd question\n",
    "# take emp name as an input from the user and print all the empids for that name in a form of list\n",
    "# search of name should be case insensitive\n",
    "# if name not found print \"sorry no employee exists with that name\"\n",
    "\n",
    "\n",
    "d={}\n",
    "empid=0\n",
    "while empid != -999:  # != is not equal to\n",
    "    empid=int(input(\"Please enter the employee id : \"))\n",
    "    if empid !=-999:\n",
    "        name=input(\"Please enter employee name : \")\n",
    "        d[empid]=name \n",
    "print(d)\n",
    "#answer 2\n",
    "empid = int(input(\"Please enter the employee id to search name : \"))\n",
    "if empid in d.keys():\n",
    "    print(\"name of employee is \", d[empid])\n",
    "else:\n",
    "    print(\"sorry we dont have any employee with the emp id \", empid)\n",
    "    \n",
    "# answer 3\n",
    "list1=[]\n",
    "name = input(\"Please enter the name so that I can find all emp ids : \")\n",
    "for k, v in d.items():\n",
    "    if v.upper() == name.upper():\n",
    "        list1.append(k)\n",
    "        \n",
    "if len(list1)>0:\n",
    "    print(\"list of emp ids for \", name, \"is\", list1)\n",
    "else:\n",
    "    print(\"sorry we dont have employee with name \", name)"
   ]
  },
  {
   "cell_type": "code",
   "execution_count": 38,
   "metadata": {},
   "outputs": [
    {
     "name": "stdout",
     "output_type": "stream",
     "text": [
      "Please enter the value of radius:3\n",
      "area of circle: 28.259999999999998\n",
      "area of circle: 18.84\n"
     ]
    }
   ],
   "source": [
    "# write a function to find area and perimeter of a circle\n",
    "# take input radius in main program and pass it to function\n",
    "# from the function return area and perimeter both\n",
    "def func(r):\n",
    "    return area,perimeter\n",
    "r=int(input(\"Please enter the value of radius:\"))\n",
    "area=3.14*r*r\n",
    "perimeter=2*3.14*r\n",
    "result=func(r)\n",
    "print(\"area of circle:\",result[0])\n",
    "print(\"area of circle:\",result[1])"
   ]
  },
  {
   "cell_type": "code",
   "execution_count": 6,
   "metadata": {
    "scrolled": true
   },
   "outputs": [
    {
     "name": "stdout",
     "output_type": "stream",
     "text": [
      "Please enter the name:AVIral\n",
      "Total number of characters in the name is: 6\n",
      "Total number of upper case is: 3\n"
     ]
    },
    {
     "ename": "TypeError",
     "evalue": "unsupported operand type(s) for /: 'str' and 'int'",
     "output_type": "error",
     "traceback": [
      "\u001b[1;31m---------------------------------------------------------------------------\u001b[0m",
      "\u001b[1;31mTypeError\u001b[0m                                 Traceback (most recent call last)",
      "\u001b[1;32m<ipython-input-6-18fcc8b8fb56>\u001b[0m in \u001b[0;36m<module>\u001b[1;34m\u001b[0m\n\u001b[0;32m     22\u001b[0m \u001b[1;32mif\u001b[0m \u001b[0mlen\u001b[0m\u001b[1;33m(\u001b[0m\u001b[0mn\u001b[0m\u001b[1;33m)\u001b[0m\u001b[1;33m%\u001b[0m\u001b[1;36m2\u001b[0m\u001b[1;33m==\u001b[0m\u001b[1;36m0\u001b[0m\u001b[1;33m:\u001b[0m\u001b[1;33m\u001b[0m\u001b[1;33m\u001b[0m\u001b[0m\n\u001b[0;32m     23\u001b[0m     \u001b[0mstart\u001b[0m\u001b[1;33m=\u001b[0m\u001b[0mint\u001b[0m\u001b[1;33m(\u001b[0m\u001b[0mlen\u001b[0m\u001b[1;33m(\u001b[0m\u001b[0mn\u001b[0m\u001b[1;33m)\u001b[0m\u001b[1;33m/\u001b[0m\u001b[1;36m2\u001b[0m\u001b[1;33m-\u001b[0m\u001b[1;36m1\u001b[0m\u001b[1;33m)\u001b[0m \u001b[1;31m#2\u001b[0m\u001b[1;33m\u001b[0m\u001b[1;33m\u001b[0m\u001b[0m\n\u001b[1;32m---> 24\u001b[1;33m     \u001b[0mend\u001b[0m\u001b[1;33m=\u001b[0m\u001b[0mint\u001b[0m\u001b[1;33m(\u001b[0m\u001b[0mlen\u001b[0m\u001b[1;33m(\u001b[0m\u001b[0mn\u001b[0m\u001b[1;33m/\u001b[0m\u001b[1;36m2\u001b[0m\u001b[1;33m+\u001b[0m\u001b[1;36m1\u001b[0m\u001b[1;33m)\u001b[0m\u001b[1;33m)\u001b[0m \u001b[1;31m#4\u001b[0m\u001b[1;33m\u001b[0m\u001b[1;33m\u001b[0m\u001b[0m\n\u001b[0m\u001b[0;32m     25\u001b[0m     \u001b[0mprint\u001b[0m\u001b[1;33m(\u001b[0m\u001b[1;34m\"Middle name starts with:\"\u001b[0m\u001b[1;33m,\u001b[0m\u001b[0mn\u001b[0m\u001b[1;33m[\u001b[0m\u001b[0mstart\u001b[0m\u001b[1;33m:\u001b[0m\u001b[0mend\u001b[0m\u001b[1;33m]\u001b[0m\u001b[1;33m)\u001b[0m\u001b[1;33m\u001b[0m\u001b[1;33m\u001b[0m\u001b[0m\n\u001b[0;32m     26\u001b[0m \u001b[1;32melse\u001b[0m\u001b[1;33m:\u001b[0m\u001b[1;33m\u001b[0m\u001b[1;33m\u001b[0m\u001b[0m\n",
      "\u001b[1;31mTypeError\u001b[0m: unsupported operand type(s) for /: 'str' and 'int'"
     ]
    }
   ],
   "source": [
    "# write a function to take input from the user any name\n",
    "# in another function find the total number of characters in name\n",
    "# in another function find the number of upper case letters in name\n",
    "#in another function find the middle char of name if name has even characters like john -> then oh should be printed\n",
    "def fun(n):\n",
    "    return tot\n",
    "n=input(\"Please enter the name:\")\n",
    "tot=len(n)\n",
    "c=fun(n)\n",
    "print(\"Total number of characters in the name is:\",c)\n",
    "\n",
    "def fun1(n):\n",
    "    return upper1\n",
    "count=0\n",
    "for i in n:\n",
    "   if i.isupper():\n",
    "    count+=1\n",
    "print(\"Total number of upper case is:\",count)\n",
    "\n",
    "def fun2(n):\n",
    "    return midchar\n",
    "if len(n)%2==0:\n",
    "    start=int(len(n)/2-1) #2\n",
    "    end=int(len(n/2+1)) #4\n",
    "    print(\"Middle name starts with:\",n[start:end])\n",
    "else:\n",
    "    loc=int(len(n)/2)\n",
    "    print(\"Middle name starts with:\",n[loc])\n",
    "    n=fun()\n",
    "    fun(n)\n",
    "    fun1(n)\n",
    "    fun2(n)"
   ]
  },
  {
   "cell_type": "code",
   "execution_count": 5,
   "metadata": {},
   "outputs": [],
   "source": [
    "# write a function to find the sum of all the digits of a number entered by user\n",
    "# write another function to create even list and odd list having even and add numbers starting from 0 till that number\n",
    "# in another function find if number starts from 9, if yes print success else print failure\n",
    "# number should be taken in main program\n",
    "def ad(num):\n",
    "    return result\n",
    "    num=int(input(\"Please enter the numbers to be added:\"))\n",
    "    for i in num\n",
    "    result=(sum(num))\n",
    "    print(\"Addition of the numbers are:\",ad(result))"
   ]
  },
  {
   "cell_type": "code",
   "execution_count": 12,
   "metadata": {},
   "outputs": [
    {
     "ename": "SyntaxError",
     "evalue": "invalid syntax (<ipython-input-12-bfb658a0c3b8>, line 14)",
     "output_type": "error",
     "traceback": [
      "\u001b[1;36m  File \u001b[1;32m\"<ipython-input-12-bfb658a0c3b8>\"\u001b[1;36m, line \u001b[1;32m14\u001b[0m\n\u001b[1;33m    else:\u001b[0m\n\u001b[1;37m    ^\u001b[0m\n\u001b[1;31mSyntaxError\u001b[0m\u001b[1;31m:\u001b[0m invalid syntax\n"
     ]
    }
   ],
   "source": [
    "# write a program to take input from user any string\n",
    "# find the number of times each character is repeating in it, search should be case insensitive\n",
    "# eg, if Aman is an input\n",
    "# ans should be\n",
    "# a-> coming 2 times\n",
    "# m-> coming 1 time\n",
    "# n-> coming 1 time\n",
    "count=0\n",
    "a=input(\"Please enter the name:\")\n",
    "for i in a:\n",
    "    for j in a:\n",
    "    if a[i].lower and a[i].upper():\n",
    "        count+=1\n",
    "        print (i,\"coming\" ,count,\"times\")\n",
    "        else:\n",
    "            print (i,\"coming\",count,\"times\")"
   ]
  },
  {
   "cell_type": "code",
   "execution_count": 15,
   "metadata": {},
   "outputs": [
    {
     "name": "stdout",
     "output_type": "stream",
     "text": [
      "Enter any name: Pooja\n",
      "{'P', 'j', 'o', 'a'}\n",
      "P is repeated  1 times\n",
      "o is repeated  2 times\n",
      "o is repeated  1 times\n",
      "j is repeated  1 times\n",
      "a is repeated  1 times\n"
     ]
    }
   ],
   "source": [
    "string=input(\"Enter any name: \")\n",
    "new_string=str(set(string))\n",
    "print(new_string)\n",
    "for i in range(0,len(string)):\n",
    "    count=1\n",
    "    for j in range(i+1,len(string)):\n",
    "        if string[i].upper()==string[j].upper():\n",
    "            count+=1        \n",
    "    print(string[i],\"is repeated \",count,\"times\")"
   ]
  },
  {
   "cell_type": "code",
   "execution_count": 14,
   "metadata": {},
   "outputs": [
    {
     "name": "stdout",
     "output_type": "stream",
     "text": [
      "Enter your string pooja\n",
      "p coming 1 time\n",
      "o coming 2 time\n",
      "j coming 1 time\n",
      "a coming 1 time\n"
     ]
    }
   ],
   "source": [
    "userstring = input(\"Enter your string \")\n",
    "string_length=len(userstring)\n",
    "temp = {}\n",
    "for x in userstring:\n",
    "    if x in temp:\n",
    "        temp[x] +=1\n",
    "    else:\n",
    "        temp[x] = 1\n",
    "for k in temp.keys():\n",
    "    print(k ,\"coming\", temp[k] ,\"time\")"
   ]
  },
  {
   "cell_type": "code",
   "execution_count": null,
   "metadata": {},
   "outputs": [],
   "source": [
    "# guessing game program (using global variable)\n",
    "# in a function take input from user any number and check if the number is even and between 1 and 21 we win the game\n",
    "# user will get max 3 chances to win the game.\n",
    "# if he fails in all 3 chances, he lost the game\n",
    "# at any point he enters right number, he will win the game\n",
    "# do not return anything from the function\n",
    "# message of success or failure should be printed in main\n",
    "win=0\n",
    "def guess_game():\n",
    "    count=1\n",
    "    global win\n",
    "    while count<=3 and win==0:\n",
    "        guess1=int(input(\"Please enter a number \")) \n",
    "        if guess1%2==0 and 1<guess1 and guess1<21:\n",
    "            win=1\n",
    "        count+=1\n",
    "guess_game()            \n",
    "            \n",
    "if win==0:\n",
    "    print(\"You lost the game\")\n",
    "else:\n",
    "    print(\"You are the winner\")"
   ]
  },
  {
   "cell_type": "code",
   "execution_count": null,
   "metadata": {},
   "outputs": [],
   "source": [
    "# in a function take input from user name age address and phone number\n",
    "# in another function check_name, check if name contains any vowel in upper case, if yes print success else failure\n",
    "# in another function check_address, check if address has last word as city which is Delhi, print success else print failure\n",
    "# in another function check_phone, check if all digits are there and it should be 10 digits, \n",
    "#if that is not the case print failure else success\n",
    "# print adult or not adult based on age. adult is > 18 yrs\n",
    " \n",
    "\n",
    "def input_user():\n",
    "        name=input(\"Please enter the name:\")\n",
    "        age=int(input(\"Please enter the age\")\n",
    "        address=input(\"Please enter the address\")\n",
    "        Phone_number=int(input(\"Please enter 10 digit number:\"))\n",
    "        return name, age, address, Phone_number\n",
    "def Check_name(name)\n",
    "                if i in name=='a' or name=='e' or name=='i' or name=='o' or name=='u' and\n",
    "                name.upper()=='A' or name.upper()=='E' or name.upper()=='I' or name.upper()=='O' or name.upper()=='U'\n",
    "                print(\"Success\")\n",
    "                else:\n",
    "                print(\"Failure\")\n",
    "                \n",
    "details=input_user()\n",
    "Check_name(details(0))"
   ]
  },
  {
   "cell_type": "markdown",
   "metadata": {},
   "source": []
  },
  {
   "cell_type": "code",
   "execution_count": 15,
   "metadata": {},
   "outputs": [
    {
     "name": "stdout",
     "output_type": "stream",
     "text": [
      "Enter the name: pooja\n",
      "Enter the age: 30\n",
      "Enter the address: 212 mumbai\n",
      "Enter the phone number: 2312321\n",
      "there are no upper case vowels in name\n",
      "Adult\n",
      "['212', 'mumbai']\n",
      "failure address do not have last word as Delhi\n",
      "its invalid phone number\n"
     ]
    }
   ],
   "source": [
    "\n",
    "# in a function take input from user name age address and phone number\n",
    "# in another function check_name, check if name contains any vowel in upper case, if yes print success else failure\n",
    "# in another function check_address, check if address has last word as city which is Delhi, print success else print failure\n",
    "# in another function check_phone, check if all digits are there and it should be 10 digits, \n",
    "#if that is not the case print failure else success\n",
    "# print adult or not adult based on age. adult is > 18 yrs\n",
    "def get_details():\n",
    "    name=input(\"Enter the name: \")\n",
    "    age=int(input(\"Enter the age: \"))\n",
    "    address=input(\"Enter the address: \")\n",
    "    phone_number=input(\"Enter the phone number: \")\n",
    "    return name, age, address, phone_number\n",
    "def check_name(name):\n",
    "    count=0\n",
    "    for x in name:\n",
    "        if x in \"AEIOU\":\n",
    "            count+=1\n",
    "    if count>0:\n",
    "        print(\"number of upper case vowels in name are \", count)\n",
    "    else:\n",
    "        print(\"there are no upper case vowels in name\")\n",
    "        \n",
    "def check_address(address):\n",
    "    list1=address.split()\n",
    "    print(list1)\n",
    "    if list1[-1].upper() == 'DELHI':\n",
    "        print(\"success address has last word Delhi\")\n",
    "    else:\n",
    "        print(\"failure address do not have last word as Delhi\")\n",
    "    \n",
    "def check_phone(phone_number):\n",
    "    if phone_number.isdigit() and len(phone_number)==10:\n",
    "        print(\"its a valid phone number\")\n",
    "    else:\n",
    "        print(\"its invalid phone number\")\n",
    "    \n",
    "def check_age(age):\n",
    "    if age>=18:\n",
    "        print(\"Adult\")\n",
    "    else:\n",
    "        print(\"child\")\n",
    "        \n",
    "details=get_details()\n",
    "check_name(details[0])\n",
    "check_age(details[1])\n",
    "check_address(details[2])\n",
    "check_phone(details[3])\n",
    "\n",
    "\n",
    "      "
   ]
  },
  {
   "cell_type": "code",
   "execution_count": 1,
   "metadata": {},
   "outputs": [
    {
     "name": "stdout",
     "output_type": "stream",
     "text": [
      "Pleas enter the radius3\n",
      "Area of circle is: 28.274333882308138\n"
     ]
    }
   ],
   "source": [
    "# write lambda function to find area and perimeter after taking radius from user\n",
    "# take input from user principle, rate and time and find simple interest\n",
    "# write a lambda function to find hypoteneous of a right angle triange where height is 10 cm and base is 5 cm\n",
    "# write a lambda function to take input from user and three numbers and their product with one another\n",
    "# write a lambda function to get return number of seconds after taking hours from the user\n",
    "\n",
    "from math import pi\n",
    "area= lambda r:pi*r*r\n",
    "print(\"Area of circle is:\", area(int(input(\"Pleas enter the radius\"))))"
   ]
  },
  {
   "cell_type": "code",
   "execution_count": 3,
   "metadata": {},
   "outputs": [
    {
     "name": "stdout",
     "output_type": "stream",
     "text": [
      "Enter the principal amount:25000\n",
      "Enter the number of years:3\n",
      "Enter the rate of interest:7\n",
      "Simple Interest is: 5250.0\n"
     ]
    }
   ],
   "source": [
    "p=int(input(\"Enter the principal amount:\"))\n",
    "n=int(input(\"Enter the number of years:\"))\n",
    "r=int(input(\"Enter the rate of interest:\"))\n",
    "\n",
    "SI= lambda p,n,r:(p*n*r)/100\n",
    "print(\"Simple Interest is:\", SI(p,n,r))"
   ]
  },
  {
   "cell_type": "code",
   "execution_count": 9,
   "metadata": {},
   "outputs": [
    {
     "name": "stdout",
     "output_type": "stream",
     "text": [
      "Enter first number:10\n",
      "Enter second number:22\n",
      "Enter third number:11\n",
      "Product is: 2420\n"
     ]
    }
   ],
   "source": [
    "num1=int(input(\"Enter first number:\"))\n",
    "num2=int(input(\"Enter second number:\"))\n",
    "num3=int(input(\"Enter third number:\"))\n",
    "product= lambda num1,num2,num3:num1*num2*num3\n",
    "print(\"Product is:\", product(num1,num2,num3))"
   ]
  },
  {
   "cell_type": "code",
   "execution_count": 8,
   "metadata": {},
   "outputs": [
    {
     "name": "stdout",
     "output_type": "stream",
     "text": [
      "Hypotenuse= 11.180339887498949\n"
     ]
    }
   ],
   "source": [
    "from math import sqrt\n",
    "height=10\n",
    "base=5\n",
    "hypo= lambda height,base:sqrt((height*height)+(base*base))\n",
    "print(\"Hypotenuse=\",hypo(height,base))"
   ]
  },
  {
   "cell_type": "code",
   "execution_count": 7,
   "metadata": {},
   "outputs": [
    {
     "name": "stdout",
     "output_type": "stream",
     "text": [
      "Enter number of hours:3\n",
      "Number of seconds in the hours you given is: 10800\n"
     ]
    }
   ],
   "source": [
    "hrs=int(input(\"Enter number of hours:\"))\n",
    "sec= lambda hrs:hrs*3600\n",
    "print(\"Number of seconds in the hours you given is:\",sec(hrs))"
   ]
  },
  {
   "cell_type": "code",
   "execution_count": 29,
   "metadata": {},
   "outputs": [
    {
     "name": "stdout",
     "output_type": "stream",
     "text": [
      "[1, 8, 3, 2, 7, 5]\n",
      "15\n"
     ]
    }
   ],
   "source": [
    "# list1=[1,8,3,2,7,5]\n",
    "# i want to find the sum of all the values at odd locations of a list\n",
    "# 8+2+5=15\n",
    "# use map, reduce, filter anything along with lambda\n",
    "\n",
    "list1=[1,8,3,2,7,5]\n",
    "list2=sum(list1[1:: 2])\n",
    "print(list1)\n",
    "print(list2)\n"
   ]
  },
  {
   "cell_type": "code",
   "execution_count": 28,
   "metadata": {},
   "outputs": [
    {
     "ename": "SyntaxError",
     "evalue": "invalid syntax (<ipython-input-28-0ae21a96e575>, line 2)",
     "output_type": "error",
     "traceback": [
      "\u001b[1;36m  File \u001b[1;32m\"<ipython-input-28-0ae21a96e575>\"\u001b[1;36m, line \u001b[1;32m2\u001b[0m\n\u001b[1;33m    list2=list(filter(lambda list1[1::5],list1))\u001b[0m\n\u001b[1;37m                                  ^\u001b[0m\n\u001b[1;31mSyntaxError\u001b[0m\u001b[1;31m:\u001b[0m invalid syntax\n"
     ]
    }
   ],
   "source": [
    "list1=[1,8,3,2,7,5]\n",
    "list2=list(filter(lambda list1[1::5],list1))\n",
    "ans=reduce(lambda sum(list2),list2)"
   ]
  },
  {
   "cell_type": "code",
   "execution_count": 1,
   "metadata": {},
   "outputs": [
    {
     "name": "stdout",
     "output_type": "stream",
     "text": [
      "Please enter the first number : 9\n",
      "Please enter the second number : 0\n",
      "Name of an exception is :  <class 'ZeroDivisionError'>\n",
      "description of an exception is :  division by zero\n",
      "bye\n"
     ]
    }
   ],
   "source": [
    "import sys\n",
    "try: # here we write anything which we expecting that it might fail\n",
    "    num1=int(input(\"Please enter the first number : \"))\n",
    "    num2=int(input(\"Please enter the second number : \"))\n",
    "    ans=num1/num2\n",
    "except: # if anything fails control comes here\n",
    "    print(\"Name of an exception is : \", sys.exc_info()[0])\n",
    "    print(\"description of an exception is : \", sys.exc_info()[1])\n",
    "else: #control comes when nothing failed in try\n",
    "    print(\"Success and the ans of division is \", ans)\n",
    "finally: # this block is for sure executes irrespective of try passing or failing\n",
    "    print(\"bye\")"
   ]
  },
  {
   "cell_type": "code",
   "execution_count": null,
   "metadata": {},
   "outputs": [],
   "source": [
    "\n",
    "   "
   ]
  },
  {
   "cell_type": "code",
   "execution_count": 34,
   "metadata": {},
   "outputs": [
    {
     "name": "stdout",
     "output_type": "stream",
     "text": [
      "Enter empolyee ID : 11\n",
      "Enter empolyee name : aaa\n",
      "Enter empolyee ID : 12\n",
      "Enter empolyee name : ddd\n",
      "Enter empolyee ID : 21\n",
      "Enter empolyee name : rrr\n",
      "Enter empolyee ID : -999\n",
      "Enter empolyee ID : 12\n",
      "Employee name :  ddd\n"
     ]
    }
   ],
   "source": [
    "def get_details():\n",
    "    empid=0\n",
    "    d={}\n",
    "    while empid!=-999:\n",
    "        empid=int(input(\"Enter empolyee ID : \"))\n",
    "        if empid!=-999:\n",
    "            name=input(\"Enter empolyee name : \")\n",
    "            d[empid]=name\n",
    "    return d\n",
    "def print_details(d):\n",
    "    try:\n",
    "        emp=int(input(\"Enter empolyee ID : \"))\n",
    "        print(\"Employee name : \",d[emp])\n",
    "    except:\n",
    "        print(\"Empolyee not found\")\n",
    "        \n",
    "emp_details= get_details()\n",
    "print_details(emp_details)"
   ]
  },
  {
   "cell_type": "code",
   "execution_count": 4,
   "metadata": {},
   "outputs": [
    {
     "name": "stdout",
     "output_type": "stream",
     "text": [
      "Please enter the employee id : 11\n",
      "Please enter employee name : amit\n",
      "ENter the id which you need to search:12\n",
      "12\n",
      "<class 'KeyError'>\n",
      "Empid not found 12\n"
     ]
    }
   ],
   "source": [
    "# in a function take an input from the user one by one, emp id and name of employee and create a dictionary\n",
    "# keep on taking inputs till user enters -999\n",
    "# return the dictionary to main program\n",
    "# create another function to take input from user empid and print emp name, if employee id does not exist\n",
    "# trap an exception and print message employee not found\n",
    "\n",
    "import sys\n",
    "def fun1():\n",
    "    empid=0\n",
    "    d={}\n",
    "    while empid!=-999:\n",
    "        empid=int(input(\"Please enter the employee id : \"))\n",
    "        if empid!=-999:\n",
    "            empname=input(\"Please enter employee name : \")\n",
    "            d[empid]=empname\n",
    "            return d\n",
    "\n",
    "def verify1(d):\n",
    "    try:\n",
    "        empId=int(input(\"ENter the id which you need to search:\"))\n",
    "        print(\"Name of the employee is\",d[empId])\n",
    "    except:\n",
    "            print(sys.exc_info()[1])\n",
    "            print(sys.exc_info()[0])\n",
    "            print(\"Empid not found\", empId)\n",
    "        \n",
    "d1=fun1()\n",
    "verify1(d1)"
   ]
  },
  {
   "cell_type": "code",
   "execution_count": 2,
   "metadata": {},
   "outputs": [
    {
     "name": "stdout",
     "output_type": "stream",
     "text": [
      "Please enter any number : 3\n"
     ]
    },
    {
     "ename": "NameError",
     "evalue": "name 'sys' is not defined",
     "output_type": "error",
     "traceback": [
      "\u001b[1;31m---------------------------------------------------------------------------\u001b[0m",
      "\u001b[1;31mAssertionError\u001b[0m                            Traceback (most recent call last)",
      "\u001b[1;32m<ipython-input-2-3c145bf4a823>\u001b[0m in \u001b[0;36m<module>\u001b[1;34m\u001b[0m\n\u001b[0;32m      4\u001b[0m     \u001b[1;32massert\u001b[0m \u001b[0mnum1\u001b[0m\u001b[1;33m%\u001b[0m\u001b[1;36m2\u001b[0m\u001b[1;33m!=\u001b[0m\u001b[1;36m0\u001b[0m\u001b[1;33m,\u001b[0m \u001b[1;34m\"you have entered even number which is invalid\"\u001b[0m\u001b[1;33m\u001b[0m\u001b[1;33m\u001b[0m\u001b[0m\n\u001b[1;32m----> 5\u001b[1;33m     \u001b[1;32massert\u001b[0m \u001b[0mnum1\u001b[0m\u001b[1;33m==\u001b[0m\u001b[1;36m7\u001b[0m\u001b[1;33m,\u001b[0m \u001b[1;34m\"Only 7 is a valid input\"\u001b[0m\u001b[1;33m\u001b[0m\u001b[1;33m\u001b[0m\u001b[0m\n\u001b[0m\u001b[0;32m      6\u001b[0m \u001b[1;32mexcept\u001b[0m\u001b[1;33m:\u001b[0m\u001b[1;33m\u001b[0m\u001b[1;33m\u001b[0m\u001b[0m\n",
      "\u001b[1;31mAssertionError\u001b[0m: Only 7 is a valid input",
      "\nDuring handling of the above exception, another exception occurred:\n",
      "\u001b[1;31mNameError\u001b[0m                                 Traceback (most recent call last)",
      "\u001b[1;32m<ipython-input-2-3c145bf4a823>\u001b[0m in \u001b[0;36m<module>\u001b[1;34m\u001b[0m\n\u001b[0;32m      5\u001b[0m     \u001b[1;32massert\u001b[0m \u001b[0mnum1\u001b[0m\u001b[1;33m==\u001b[0m\u001b[1;36m7\u001b[0m\u001b[1;33m,\u001b[0m \u001b[1;34m\"Only 7 is a valid input\"\u001b[0m\u001b[1;33m\u001b[0m\u001b[1;33m\u001b[0m\u001b[0m\n\u001b[0;32m      6\u001b[0m \u001b[1;32mexcept\u001b[0m\u001b[1;33m:\u001b[0m\u001b[1;33m\u001b[0m\u001b[1;33m\u001b[0m\u001b[0m\n\u001b[1;32m----> 7\u001b[1;33m     \u001b[0mprint\u001b[0m\u001b[1;33m(\u001b[0m\u001b[0msys\u001b[0m\u001b[1;33m.\u001b[0m\u001b[0mexc_info\u001b[0m\u001b[1;33m(\u001b[0m\u001b[1;33m)\u001b[0m\u001b[1;33m[\u001b[0m\u001b[1;36m1\u001b[0m\u001b[1;33m]\u001b[0m\u001b[1;33m)\u001b[0m\u001b[1;33m\u001b[0m\u001b[1;33m\u001b[0m\u001b[0m\n\u001b[0m\u001b[0;32m      8\u001b[0m \u001b[1;32melse\u001b[0m\u001b[1;33m:\u001b[0m\u001b[1;33m\u001b[0m\u001b[1;33m\u001b[0m\u001b[0m\n\u001b[0;32m      9\u001b[0m     \u001b[0mprint\u001b[0m\u001b[1;33m(\u001b[0m\u001b[1;34m\"success you have entered an odd number\"\u001b[0m\u001b[1;33m)\u001b[0m\u001b[1;33m\u001b[0m\u001b[1;33m\u001b[0m\u001b[0m\n",
      "\u001b[1;31mNameError\u001b[0m: name 'sys' is not defined"
     ]
    }
   ],
   "source": [
    "# assert raises an assertion error\n",
    "try:\n",
    "    num1=int(input(\"Please enter any number : \"))\n",
    "    assert num1%2!=0, \"you have entered even number which is invalid\"\n",
    "    assert num1==7, \"Only 7 is a valid input\"\n",
    "except:\n",
    "    print(sys.exc_info()[1])\n",
    "else:\n",
    "    print(\"success you have entered an odd number\")"
   ]
  },
  {
   "cell_type": "code",
   "execution_count": null,
   "metadata": {},
   "outputs": [],
   "source": [
    "\n",
    "try:\n",
    "    num1=int(input(\"Please enter any number : \"))\n",
    "    if num1%2==0:\n",
    "        raise ValueError\n",
    "except:\n",
    "    print(\"you have entered even number which is invalid\")\n",
    "else:\n",
    "    print(\"success you have entered an odd number\")"
   ]
  },
  {
   "cell_type": "code",
   "execution_count": null,
   "metadata": {},
   "outputs": [],
   "source": [
    "you need to create a password authentication program. user will get max 3 attempts to give right password.\n",
    "valid password should have atleast 1 number, 1 capital letter, 1 small letter, 1 special char, 1 space \n",
    "min length of password should be 8 characters"
   ]
  },
  {
   "cell_type": "code",
   "execution_count": 20,
   "metadata": {},
   "outputs": [
    {
     "ename": "SyntaxError",
     "evalue": "invalid syntax (<ipython-input-20-d3967a2307e4>, line 9)",
     "output_type": "error",
     "traceback": [
      "\u001b[1;36m  File \u001b[1;32m\"<ipython-input-20-d3967a2307e4>\"\u001b[1;36m, line \u001b[1;32m9\u001b[0m\n\u001b[1;33m    elif i.islower():\u001b[0m\n\u001b[1;37m    ^\u001b[0m\n\u001b[1;31mSyntaxError\u001b[0m\u001b[1;31m:\u001b[0m invalid syntax\n"
     ]
    }
   ],
   "source": [
    "count=1\n",
    "num=0\n",
    "num_count,lower_count,upper_count,space_count,special_count=0,0,0,0,0\n",
    "while count<=3 and win==0:\n",
    "    try:\n",
    "        passwd=input(\"Please enter the password\")\n",
    "    for i in passwd:\n",
    "        if i.isnumeric():\n",
    "            num_count+=1\n",
    "            elif i.islower():\n",
    "                lower_count+=1\n",
    "                elif i.isupper():\n",
    "                    upper_count+=1\n",
    "                    elif i.isspace():\n",
    "                        space_count+=1\n",
    "                        else\n",
    "                        special_count+=1\n",
    "                        assert len(passwd)>=8, \"Password must be min 8 characters\"\n",
    "                        assert num_count!=0,\"Password must contain atleast 1 number\"\n",
    "                        assert lower_count!=0,\"Password must contain one lower character\"\n",
    "                        assert upper_count!=0,\"Password must contain one upper character\"\n",
    "                        assert space_count!=0,\"Password must contain space\"\n",
    "        except:\n",
    "            print(sys.exc_info()[0])\n",
    "            else:\n",
    "                win=1\n",
    "                print(\"You have entered wrong password\")\n",
    "                if win==0:\n",
    "                print(\"Password is success\")"
   ]
  },
  {
   "cell_type": "code",
   "execution_count": null,
   "metadata": {},
   "outputs": [],
   "source": [
    "while win==0 and count<=3:\n",
    "    upper_count, lower_count, space_count, number_count, special_count = 0,0,0,0,0\n",
    "    try:\n",
    "        password=input(\"Please enter the password : \")\n",
    "        for x in password:\n",
    "            if x.isupper():\n",
    "                upper_count+=1\n",
    "            elif x.islower():\n",
    "                lower_count+=1\n",
    "            elif x.isspace():\n",
    "                space_count+=1\n",
    "            elif x.isnumeric():\n",
    "                number_count+=1\n",
    "            else:\n",
    "                special_count+=1\n",
    "        assert len(password)>=8, \"Password must be min of 8 characters\"\n",
    "        assert upper_count!=0, \"There has to be one upper case letter in password\"\n",
    "        assert lower_count!=0, \"There has to be one lower case letter in password\"\n",
    "        assert number_count!=0, \"There has to be one number in password\"\n",
    "        assert space_count!=0, \"There has to be one space in password\"\n",
    "        assert special_count!=0, \"There has to be one special case letter in password\"\n",
    "    except:\n",
    "        print(sys.exc_info()[1])\n",
    "        count+=1\n",
    "    else:\n",
    "        win=1\n",
    "        print(\"Password set successfully\")     \n",
    "if win==0:\n",
    "    print(\"sorry all 3 attempts are exhausted password is not set\")\n"
   ]
  },
  {
   "cell_type": "code",
   "execution_count": null,
   "metadata": {},
   "outputs": [],
   "source": [
    "you need to authenticate 16 digit card number. \n",
    "number of digits in the card should be exactly 16\n",
    "it should not contain any capital letter\n",
    "it should not contain any small letter\n",
    "it should not contain any space\n",
    "it should not contain any special char\n",
    "it should be purely digits\n",
    "card number cannot start with zero\n",
    "sum of the digits of card number should be even\n",
    "sum of last 4 numbers of card number must be odd\n",
    "if all the above conditions are met, card number is valid, otherwise card number is invalid"
   ]
  },
  {
   "cell_type": "code",
   "execution_count": 9,
   "metadata": {},
   "outputs": [
    {
     "ename": "SyntaxError",
     "evalue": "invalid syntax (<ipython-input-9-22047e487a65>, line 22)",
     "output_type": "error",
     "traceback": [
      "\u001b[1;36m  File \u001b[1;32m\"<ipython-input-9-22047e487a65>\"\u001b[1;36m, line \u001b[1;32m22\u001b[0m\n\u001b[1;33m    assert len(cardnum)==5,\"Print cardnumber shud have 5 digit\"\u001b[0m\n\u001b[1;37m    ^\u001b[0m\n\u001b[1;31mSyntaxError\u001b[0m\u001b[1;31m:\u001b[0m invalid syntax\n"
     ]
    }
   ],
   "source": [
    "import sys\n",
    "try:\n",
    "    upper_count, lower_count, space_count, number_count, special_count,sumall,sumlast=0,0,0,0,0,0,0\n",
    "    cardnum=int(input(\"Please enter the 16 digit card number:\"))\n",
    "    for i in cardnum:\n",
    "        if i.isupper():\n",
    "            upper_count+1\n",
    "        elif i.isnumeric():\n",
    "            num_count+=1\n",
    "            sumall+=int(i)\n",
    "        elif i.islower():\n",
    "            lower_count+=1\n",
    "        elif i.isspace():\n",
    "            space_count+=1\n",
    "        else:\n",
    "            special_count+=1\n",
    "\n",
    "    if cardnum.isnumeric():\n",
    "        for i in cardnum[-4:]:\n",
    "            sumlast+=int(i)\n",
    "            \n",
    "assert len(cardnum)==5,\"Print cardnumber shud have 5 digit\"\n",
    "assert upper_count==0,\"Print cardnumber shud not contain any upper character\"\n",
    "assert lower_count==0,\"Print cardnumber shud not have any lower character\"\n",
    "assert space_count==0,\"Print cardnumber shud not have any space\"\n",
    "assert special_count==0,\"Print cardnumber shud not have any special character\"\n",
    "assert sumall%2==0,\"Print sum of all digit shud be an even number\"\n",
    "assert sumlast%2==1,\"Print sum of last 4 digit shud be an odd number\"\n",
    "    except:\n",
    "    print(sys.exc_info()[0])\n",
    "    print(sys.exc_info()[1])\n",
    "    \n",
    "else:\n",
    "    print(\"cardnumber is valid\")\n"
   ]
  },
  {
   "cell_type": "code",
   "execution_count": 1,
   "metadata": {},
   "outputs": [
    {
     "name": "stdout",
     "output_type": "stream",
     "text": [
      "<__main__.car object at 0x000002083FB5D1C0>\n",
      "<__main__.car object at 0x000002083FB5D070>\n"
     ]
    }
   ],
   "source": [
    "class car():\n",
    "    pass\n",
    "van=car()\n",
    "sedan=car()\n",
    "print(van)\n",
    "print(sedan)"
   ]
  },
  {
   "cell_type": "code",
   "execution_count": 3,
   "metadata": {},
   "outputs": [
    {
     "name": "stdout",
     "output_type": "stream",
     "text": [
      "I have 4  tyres\n",
      "I have 6  tyres\n"
     ]
    }
   ],
   "source": [
    "class car():\n",
    "    def tyres(self,num):\n",
    "        print(\"I have\",num,\" tyres\")\n",
    "        \n",
    "van=car()\n",
    "sedan=car()\n",
    "van.tyres(4)\n",
    "sedan.tyres(6)"
   ]
  },
  {
   "cell_type": "code",
   "execution_count": null,
   "metadata": {},
   "outputs": [],
   "source": [
    "# write a program to find area and perimeter of a circle by taking radius as input within the constructor\n",
    "# create methods area which should return area to main, perimeter method should print perimeter of a circle"
   ]
  },
  {
   "cell_type": "code",
   "execution_count": 25,
   "metadata": {},
   "outputs": [
    {
     "name": "stdout",
     "output_type": "stream",
     "text": [
      "Enter the value of radius:3\n",
      "Area of circle is 28.27\n",
      "Perimeter of circle is: 18.85\n"
     ]
    }
   ],
   "source": [
    "from math import pi\n",
    "class circle1():\n",
    "    \n",
    "    def __init__(self,radius):\n",
    "        self.radius=radius\n",
    "       \n",
    "    def area(self):\n",
    "        return pi*self.radius*self.radius\n",
    "            \n",
    "    def perimeter(self):\n",
    "        return 2*pi*self.radius\n",
    "radius=int(input(\"Enter the value of radius:\"))\n",
    "ob1=circle1(radius)\n",
    "print(\"Area of circle is\",round(ob1.area(),2))\n",
    "print(\"Perimeter of circle is:\",round(ob1.perimeter(),2))"
   ]
  },
  {
   "cell_type": "code",
   "execution_count": 26,
   "metadata": {},
   "outputs": [
    {
     "name": "stdout",
     "output_type": "stream",
     "text": [
      "Enter the radius: 3\n",
      "Area of the circle is:  28.27\n",
      "Perimeter of the circle is:  18.85\n"
     ]
    }
   ],
   "source": [
    "from math import pi\n",
    "class circle():\n",
    "    def __init__(self,r):\n",
    "        self.r=r\n",
    "    def area(self):\n",
    "        return pi*self.r*self.r\n",
    "        \n",
    "    \n",
    "    def perimeter(self):\n",
    "        return 2*pi*self.r\n",
    "r=int(input(\"Enter the radius: \"))    \n",
    "c=circle(r)\n",
    "print(\"Area of the circle is: \",round(c.area(),2))\n",
    "print(\"Perimeter of the circle is: \",round(c.perimeter(),2))"
   ]
  },
  {
   "cell_type": "code",
   "execution_count": null,
   "metadata": {},
   "outputs": [],
   "source": [
    "# write a program to take input from user full name\n",
    "# in method remove_a,  if name contains A or a anywhere, remove all the A or a \n",
    "# in another method reverse the full name after removing duplicate characters in case insesnsitive manner"
   ]
  },
  {
   "cell_type": "code",
   "execution_count": 31,
   "metadata": {},
   "outputs": [
    {
     "name": "stdout",
     "output_type": "stream",
     "text": [
      "Enter the full name:pooja\n",
      "Original name {'pooja'}\n",
      "name after removing a and A {'pooj'}\n"
     ]
    }
   ],
   "source": [
    "class name():\n",
    "    def __init__(self,nam):\n",
    "        self.nam=nam\n",
    "    \n",
    "    def remove_a(self):\n",
    "        nam=self.nam.replace('a','')\n",
    "        nam=nam.replace('A','')\n",
    "        print(\"Original name\",{self.nam})\n",
    "        print(\"name after removing a and A\",{nam})\n",
    "        return\n",
    "        \n",
    "nam=input(\"Enter the full name:\")\n",
    "ob1=name(nam)\n",
    "ob1.remove_a()"
   ]
  },
  {
   "cell_type": "code",
   "execution_count": 29,
   "metadata": {},
   "outputs": [
    {
     "name": "stdout",
     "output_type": "stream",
     "text": [
      "Please enter your full name: pooja\n",
      "\n",
      "Original Name: pooja\n",
      "Name after removing 'a, A' --> pooj\n",
      "Name after removing duplicate characters and reversing --> ajop\n"
     ]
    }
   ],
   "source": [
    "class string():\n",
    "    def __init__(self, name):\n",
    "        self.name = name\n",
    "    def remove_a(self):\n",
    "        name = self.name.replace('a', '')\n",
    "        name = name.replace('A', '')\n",
    "        print(f\"\\nOriginal Name: {self.name}\")\n",
    "        print(f\"Name after removing 'a, A' --> {name}\")\n",
    "        return\n",
    "    def reverse(self):\n",
    "        name = list()\n",
    "        for char in self.name:\n",
    "            if char.isspace():\n",
    "                name.append(char)\n",
    "            elif char.islower() and char.upper() not in name and char not in name:\n",
    "                name.append(char)\n",
    "            elif char.isupper() and char.lower() not in name and char not in name:\n",
    "                name.append(char)\n",
    "            else:\n",
    "                pass\n",
    "        name = name[::-1]\n",
    "        print(f\"Name after removing duplicate characters and reversing --> {''.join(name)}\")\n",
    "        return\n",
    "name = input(\"Please enter your full name: \")\n",
    "stringObj = string(name)\n",
    "stringObj.remove_a()\n",
    "stringObj.reverse()"
   ]
  },
  {
   "cell_type": "code",
   "execution_count": null,
   "metadata": {},
   "outputs": [],
   "source": [
    "# write a program to take input from the user any number and check if its a palindrome or not\n",
    "# if user enters 123321 its a palindrom. number must of of len 3. single digit or double digits are invalid input,\n",
    "# ask user 3 times \n",
    "# to give correct input. This number must be stored in private variable"
   ]
  },
  {
   "cell_type": "code",
   "execution_count": null,
   "metadata": {},
   "outputs": [],
   "source": [
    "class palindrom():\n",
    "    \n",
    "    def get_number(self):\n",
    "        flag=1\n",
    "        while flag:\n",
    "            num=input(\"Enter the number:\")\n",
    "        if len(num)<=3:\n",
    "            print(\"Number shud not be more than 3 or less than 3\")\n",
    "        else:\n",
    "            flag=0\n",
    "        \n",
    "        \n",
    "    \n",
    "    def reverse_number(self):\n",
    "l=list(num)\n",
    "        l.reverse()\n",
    "        l=''.join(l)\n",
    "        if num ==l:\n",
    "            print(\"it is palindrom\")\n",
    "        else:\n",
    "            print(\"not a palindrom\")\n",
    "                \n",
    "        \n",
    "\n",
    "    \n",
    "obj1=palindrom()\n",
    "print(\"the number you entered is:\", obj1.get_number())\n",
    "print(\"the number you entered is:\", obj1.reverse_number())"
   ]
  },
  {
   "cell_type": "code",
   "execution_count": null,
   "metadata": {},
   "outputs": [],
   "source": [
    "class palin:\n",
    "    def palindrom(self):\n",
    "        flag=1\n",
    "        while flag:\n",
    "            num=input(\"enter the number: \")\n",
    "            if len(num) <=3:\n",
    "                print(\"it should contain min 3 digit\")\n",
    "            else:\n",
    "                flag=0\n",
    "        l=list(num)\n",
    "        l.reverse()\n",
    "        l=''.join(l)\n",
    "        if num ==l:\n",
    "            print(\"it is palindrom\")\n",
    "        else:\n",
    "            print(\"not a palindrom\")\n",
    "p=palin()\n",
    "p.palindrom()"
   ]
  },
  {
   "cell_type": "code",
   "execution_count": null,
   "metadata": {},
   "outputs": [],
   "source": [
    "# create a class employee where you need to take input from the user Name, Age, Salary\n",
    "# create another class Department, and take input Dept name, location\n",
    "# in another class inherit both the classes and find if name contains any vowel and count them (case insensitive)\n",
    "# also find if age is > 40 yrs and salary > 70000, print \"Position is Senior \" else position is junior\n",
    "# if department is HR, print \"Success\" else \"failure\"\n",
    "# and if location contains word Delhi or Mumbai, print \"you are from head office\" else print \"you are not from head office\""
   ]
  },
  {
   "cell_type": "code",
   "execution_count": 5,
   "metadata": {},
   "outputs": [
    {
     "ename": "NameError",
     "evalue": "name 'self' is not defined",
     "output_type": "error",
     "traceback": [
      "\u001b[1;31m---------------------------------------------------------------------------\u001b[0m",
      "\u001b[1;31mNameError\u001b[0m                                 Traceback (most recent call last)",
      "\u001b[1;32m<ipython-input-5-558a2d4f95fa>\u001b[0m in \u001b[0;36m<module>\u001b[1;34m\u001b[0m\n\u001b[0;32m     10\u001b[0m         \u001b[0mself\u001b[0m\u001b[1;33m.\u001b[0m\u001b[0mdept_location\u001b[0m\u001b[1;33m=\u001b[0m\u001b[0minput\u001b[0m\u001b[1;33m(\u001b[0m\u001b[1;34m\"Enter the dept location:\"\u001b[0m\u001b[1;33m)\u001b[0m\u001b[1;33m\u001b[0m\u001b[1;33m\u001b[0m\u001b[0m\n\u001b[0;32m     11\u001b[0m \u001b[1;33m\u001b[0m\u001b[0m\n\u001b[1;32m---> 12\u001b[1;33m \u001b[1;32mclass\u001b[0m \u001b[0mmerge\u001b[0m\u001b[1;33m(\u001b[0m\u001b[0memployee\u001b[0m\u001b[1;33m,\u001b[0m\u001b[0mdepartment\u001b[0m\u001b[1;33m)\u001b[0m\u001b[1;33m:\u001b[0m\u001b[1;33m\u001b[0m\u001b[1;33m\u001b[0m\u001b[0m\n\u001b[0m\u001b[0;32m     13\u001b[0m     \u001b[1;32mdef\u001b[0m \u001b[0m__init__\u001b[0m\u001b[1;33m(\u001b[0m\u001b[0mself\u001b[0m\u001b[1;33m)\u001b[0m\u001b[1;33m:\u001b[0m\u001b[1;33m\u001b[0m\u001b[1;33m\u001b[0m\u001b[0m\n\u001b[0;32m     14\u001b[0m         \u001b[0memployee\u001b[0m\u001b[1;33m.\u001b[0m\u001b[0m__init__\u001b[0m\u001b[1;33m(\u001b[0m\u001b[0mself\u001b[0m\u001b[1;33m)\u001b[0m\u001b[1;33m\u001b[0m\u001b[1;33m\u001b[0m\u001b[0m\n",
      "\u001b[1;32m<ipython-input-5-558a2d4f95fa>\u001b[0m in \u001b[0;36mmerge\u001b[1;34m()\u001b[0m\n\u001b[0;32m     17\u001b[0m     \u001b[1;32mdef\u001b[0m \u001b[0mcheckname\u001b[0m\u001b[1;33m(\u001b[0m\u001b[0mself\u001b[0m\u001b[1;33m)\u001b[0m\u001b[1;33m:\u001b[0m\u001b[1;33m\u001b[0m\u001b[1;33m\u001b[0m\u001b[0m\n\u001b[0;32m     18\u001b[0m         \u001b[0mcount\u001b[0m\u001b[1;33m=\u001b[0m\u001b[1;36m0\u001b[0m\u001b[1;33m\u001b[0m\u001b[1;33m\u001b[0m\u001b[0m\n\u001b[1;32m---> 19\u001b[1;33m     \u001b[1;32mfor\u001b[0m \u001b[0mi\u001b[0m \u001b[1;32min\u001b[0m \u001b[0mself\u001b[0m\u001b[1;33m.\u001b[0m\u001b[0mname\u001b[0m\u001b[1;33m:\u001b[0m\u001b[1;33m\u001b[0m\u001b[1;33m\u001b[0m\u001b[0m\n\u001b[0m\u001b[0;32m     20\u001b[0m         \u001b[1;32mif\u001b[0m \u001b[0mi\u001b[0m\u001b[1;33m.\u001b[0m\u001b[0mlower\u001b[0m\u001b[1;33m(\u001b[0m\u001b[1;33m)\u001b[0m \u001b[1;32min\u001b[0m \u001b[1;34m\"aeiou\"\u001b[0m\u001b[1;33m:\u001b[0m\u001b[1;33m\u001b[0m\u001b[1;33m\u001b[0m\u001b[0m\n\u001b[0;32m     21\u001b[0m             \u001b[0mcount\u001b[0m\u001b[1;33m+=\u001b[0m\u001b[1;36m1\u001b[0m\u001b[1;33m\u001b[0m\u001b[1;33m\u001b[0m\u001b[0m\n",
      "\u001b[1;31mNameError\u001b[0m: name 'self' is not defined"
     ]
    }
   ],
   "source": [
    "class employee():\n",
    "    def __init__(self):\n",
    "        self.name=input(\"Enter the name of the employee:\")\n",
    "        self.age=int(input(\"Enter the age of the employee:\"))\n",
    "        self.salary=float(input(\"Enter the salary of the employee:\"))\n",
    "\n",
    "class department():\n",
    "    def __init__(self):\n",
    "        self.dept_name=input(\"Enter the name of the department:\")\n",
    "        self.dept_location=input(\"Enter the dept location:\")\n",
    "\n",
    "class merge(employee,department):\n",
    "    def __init__(self):\n",
    "        employee.__init__(self)\n",
    "        department.__init__(self)\n",
    "\n",
    "    def checkname(self):\n",
    "        count=0\n",
    "    for i in self.name:\n",
    "        if i.lower() in \"aeiou\":\n",
    "            count+=1\n",
    "            print(\"number of vowels in the name are:\",count)\n",
    "    def age_sal_check(self):\n",
    "        if self.age>40 and self.salary>70000:\n",
    "            print(\"positionm is senior\")\n",
    "        else:\n",
    "            (\"position is junior\")\n",
    "    def check_dept(self):\n",
    "        if self.dept_name.lower()=='hr':\n",
    "            print(\"success dept is HR\")\n",
    "        else:\n",
    "            print(\"Failure dept is not HR\")\n",
    "            \n",
    "    def loc_check(self):\n",
    "        if \"delhi\" in self.dept_location.lower() or \"mumbai\" in self.dept_location.lower():\n",
    "            print(\"it is head office\")\n",
    "        else:\n",
    "            print(\"it is not head office\")\n",
    "    obj1=merge()\n",
    "    obj1.checkname()\n",
    "    obj1.age_sal_check()\n",
    "    obj1.check_dept()\n",
    "    obj1.loc_check()\n"
   ]
  },
  {
   "cell_type": "code",
   "execution_count": null,
   "metadata": {},
   "outputs": [],
   "source": []
  }
 ],
 "metadata": {
  "kernelspec": {
   "display_name": "Python 3",
   "language": "python",
   "name": "python3"
  },
  "language_info": {
   "codemirror_mode": {
    "name": "ipython",
    "version": 3
   },
   "file_extension": ".py",
   "mimetype": "text/x-python",
   "name": "python",
   "nbconvert_exporter": "python",
   "pygments_lexer": "ipython3",
   "version": "3.8.5"
  }
 },
 "nbformat": 4,
 "nbformat_minor": 4
}
