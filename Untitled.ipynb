{
 "cells": [
  {
   "cell_type": "code",
   "execution_count": 1,
   "metadata": {},
   "outputs": [
    {
     "name": "stdout",
     "output_type": "stream",
     "text": [
      "This is the first lineThis is the second line\n"
     ]
    }
   ],
   "source": [
    "w=\"This is the first line\"\n",
    "e=\"This is the second line\"\n",
    "print(w+e)"
   ]
  },
  {
   "cell_type": "code",
   "execution_count": 7,
   "metadata": {},
   "outputs": [
    {
     "name": "stdout",
     "output_type": "stream",
     "text": [
      "There are 12 types of people.\n",
      "I said There are 12 types of people.\n"
     ]
    }
   ],
   "source": [
    "Types_of_People=12\n",
    "x = f\"There are {Types_of_People} types of people.\"\n",
    "print (x)\n",
    "print (f\"I said {x}\")"
   ]
  },
  {
   "cell_type": "code",
   "execution_count": 8,
   "metadata": {},
   "outputs": [
    {
     "name": "stdout",
     "output_type": "stream",
     "text": [
      "Those who know binary and those who don't\n",
      "I also said Those who know binary and those who don't\n"
     ]
    }
   ],
   "source": [
    "binary=\"binary\"\n",
    "do_not=\"don't\"\n",
    "y = f\"Those who know {binary} and those who {do_not}\" \n",
    "print(y)\n",
    "print(f\"I also said {y}\")"
   ]
  },
  {
   "cell_type": "code",
   "execution_count": 17,
   "metadata": {},
   "outputs": [
    {
     "name": "stdout",
     "output_type": "stream",
     "text": [
      "Isn't that so funny?! False\n"
     ]
    }
   ],
   "source": [
    "boolean = False\n",
    "joke= \"Isn't that so funny?! {}\"\n",
    "print(joke.format(boolean))"
   ]
  },
  {
   "cell_type": "code",
   "execution_count": 30,
   "metadata": {},
   "outputs": [
    {
     "name": "stdout",
     "output_type": "stream",
     "text": [
      "Enter a number to get the table:3\n",
      "3 * 1 = 3\n",
      "3 * 2 = 6\n",
      "3 * 3 = 9\n",
      "3 * 4 = 12\n",
      "3 * 5 = 15\n",
      "3 * 6 = 18\n",
      "3 * 7 = 21\n",
      "3 * 8 = 24\n",
      "3 * 9 = 27\n",
      "3 * 10 = 30\n"
     ]
    }
   ],
   "source": [
    "i=int(input(\"Enter a number to get the table:\"))\n",
    "count=1\n",
    "while count<= 10:\n",
    "    ans=count*i\n",
    "    print(i,\"*\", count,\"=\",ans)\n",
    "    count+=1\n",
    "      "
   ]
  },
  {
   "cell_type": "code",
   "execution_count": 53,
   "metadata": {},
   "outputs": [
    {
     "ename": "SyntaxError",
     "evalue": "invalid syntax (<ipython-input-53-b3fbbb958165>, line 4)",
     "output_type": "error",
     "traceback": [
      "\u001b[1;36m  File \u001b[1;32m\"<ipython-input-53-b3fbbb958165>\"\u001b[1;36m, line \u001b[1;32m4\u001b[0m\n\u001b[1;33m    elif:\u001b[0m\n\u001b[1;37m    ^\u001b[0m\n\u001b[1;31mSyntaxError\u001b[0m\u001b[1;31m:\u001b[0m invalid syntax\n"
     ]
    }
   ],
   "source": [
    "a=int(input(\"Enter the number\"))\n",
    "if(a % 2) == 0:\n",
    "    print (\"This is an even number\")\n",
    "    elif :\n",
    "        print(\"This is an odd number\")\n"
   ]
  },
  {
   "cell_type": "code",
   "execution_count": 2,
   "metadata": {},
   "outputs": [
    {
     "name": "stdout",
     "output_type": "stream",
     "text": [
      "Please enter a number:12\n",
      "you won the game\n"
     ]
    }
   ],
   "source": [
    "count=1\n",
    "win=0\n",
    "while count<=3 and win==0:\n",
    "    num=int(input(\"Please enter a number:\"))\n",
    "    if num<21 and num>1 and num%2==0:\n",
    "        win=1\n",
    "        count+=1\n",
    "        if win == 0:\n",
    "            print(\"you lost the game\")\n",
    "        else:\n",
    "            print(\"you won the game\")"
   ]
  },
  {
   "cell_type": "code",
   "execution_count": 22,
   "metadata": {},
   "outputs": [
    {
     "name": "stdout",
     "output_type": "stream",
     "text": [
      "Enter the number you want:6\n",
      "     ******\n",
      "     *****\n",
      "     ****\n",
      "     ***\n",
      "     **\n",
      "     *\n"
     ]
    }
   ],
   "source": [
    "n=int(input(\"Enter the number you want:\"))\n",
    "for i in range(n,0,-1):\n",
    "    #print(i * '*')\n",
    "    print((n-1) * ' ' + i * '*')"
   ]
  },
  {
   "cell_type": "code",
   "execution_count": 8,
   "metadata": {},
   "outputs": [
    {
     "name": "stdout",
     "output_type": "stream",
     "text": [
      "Enter number of rows: 6\n",
      "******\n",
      " *****\n",
      "  ****\n",
      "   ***\n",
      "    **\n",
      "     *\n"
     ]
    }
   ],
   "source": [
    "n=int(input(\"Enter number of rows: \"))\n",
    "for i in range (n,0,-1):\n",
    "    print((n-i) * ' ' + i * '*')"
   ]
  },
  {
   "cell_type": "code",
   "execution_count": 24,
   "metadata": {},
   "outputs": [
    {
     "name": "stdout",
     "output_type": "stream",
     "text": [
      "Enter the number to check if its a pallindrome:34334\n",
      "not a pallindrome\n"
     ]
    }
   ],
   "source": [
    "n=int(input(\"Enter the number to check if its a pallindrome:\"))\n",
    "temp=n\n",
    "rev=0\n",
    "while(n>0):\n",
    "    d=n%10\n",
    "    rev=rev*10+d\n",
    "    n=n//10\n",
    "if(temp==rev):\n",
    "    print(\"pallindrome\")\n",
    "else:\n",
    "    print(\"not a pallindrome\")"
   ]
  },
  {
   "cell_type": "code",
   "execution_count": 27,
   "metadata": {},
   "outputs": [
    {
     "name": "stdout",
     "output_type": "stream",
     "text": [
      "Enter the value of m:11\n",
      "Enter the value of n:2\n",
      "remainder is: 1\n",
      "quotient is: 5\n"
     ]
    }
   ],
   "source": [
    "m=int(input(\"Enter the value of m:\"))\n",
    "n=int(input(\"Enter the value of n:\"))\n",
    "a=m%n\n",
    "b=m//n\n",
    "print(\"remainder is:\",a)\n",
    "print(\"quotient is:\",b)\n"
   ]
  },
  {
   "cell_type": "code",
   "execution_count": 29,
   "metadata": {},
   "outputs": [
    {
     "name": "stdout",
     "output_type": "stream",
     "text": [
      "Enter the value of a:5\n",
      "Enter the value of b:7\n",
      "Enter the value of c:8\n",
      "5 7 8\n",
      "5 8 7\n",
      "7 5 8\n",
      "7 8 5\n",
      "8 5 7\n",
      "8 7 5\n"
     ]
    }
   ],
   "source": [
    "a=int(input(\"Enter the value of a:\"))\n",
    "b=int(input(\"Enter the value of b:\"))\n",
    "c=int(input(\"Enter the value of c:\"))\n",
    "d=[]\n",
    "d.append(a)\n",
    "d.append(b)\n",
    "d.append(c)\n",
    "for i in range(0,3):\n",
    "    for j in range(0,3):\n",
    "        for k in range(0,3):\n",
    "            if(i!=j&j!=k&k!=i):\n",
    "                print(d[i],d[j],d[k])"
   ]
  },
  {
   "cell_type": "code",
   "execution_count": 32,
   "metadata": {},
   "outputs": [
    {
     "name": "stdout",
     "output_type": "stream",
     "text": [
      "Enter the number to find the sum of the digits:4334\n",
      "the total is: 4\n",
      "the total is: 7\n",
      "the total is: 10\n",
      "the total is: 14\n"
     ]
    }
   ],
   "source": [
    "n=int(input(\"Enter the number to find the sum of the digits:\"))\n",
    "temp=0\n",
    "while(n>0):\n",
    "    d=n%10\n",
    "    temp=temp+d\n",
    "    n=n//10\n",
    "print(\"the total is:\",temp)"
   ]
  },
  {
   "cell_type": "code",
   "execution_count": 42,
   "metadata": {},
   "outputs": [
    {
     "name": "stdout",
     "output_type": "stream",
     "text": [
      "Enter a number:55\n",
      "[5, 11, 55]\n",
      "5\n"
     ]
    }
   ],
   "source": [
    "n=int(input(\"Enter a number:\"))\n",
    "a=[]\n",
    "for i in range(2,n+1):\n",
    "    if n%i==0:\n",
    "        a.append(i)\n",
    "        a.sort()\n",
    "print(a)\n",
    "print(a[0])"
   ]
  },
  {
   "cell_type": "code",
   "execution_count": 51,
   "metadata": {},
   "outputs": [
    {
     "name": "stdout",
     "output_type": "stream",
     "text": [
      "Enter the values in list1:4\n",
      "[0, 1, 2, 3, 4]\n",
      "Enter the value in list2:5\n",
      "[0, 1, 2, 3, 4, 5]\n",
      "[0, 0, 1, 1, 2, 2, 3, 3, 4, 4, 5]\n"
     ]
    }
   ],
   "source": [
    "a=[]\n",
    "n=int(input(\"Enter the values in list1:\"))\n",
    "for i in range(0,n+1):\n",
    "    a.append(i)\n",
    "print(a) \n",
    "b=[]\n",
    "m=int(input(\"Enter the value in list2:\"))\n",
    "for j in range(0,m+1):\n",
    "    b.append(j)\n",
    "print(b)\n",
    "c=a+b\n",
    "c.sort()\n",
    "print(c)"
   ]
  },
  {
   "cell_type": "code",
   "execution_count": 54,
   "metadata": {},
   "outputs": [
    {
     "name": "stdout",
     "output_type": "stream",
     "text": [
      "Enter the no. of elts in the 1st list:3\n",
      "Enter the elt:1\n",
      "Enter the elt:2\n",
      "Enter the elt:3\n",
      "Enter the elt:2\n",
      "Enter the no. of elts in 2nd list:6\n",
      "Enter the elt:7\n",
      "Enter the elt:4\n",
      "Enter the elt:5\n",
      "Enter the elt:8\n",
      "Enter the elt:9\n",
      "Enter the elt:99\n",
      "Enter the elt:66\n",
      "sorted list: [1, 2, 2, 3, 4, 4, 4, 4, 4, 4, 4]\n"
     ]
    }
   ],
   "source": [
    "a=[]\n",
    "c=[]\n",
    "n1=int(input(\"Enter the no. of elts in the 1st list:\"))\n",
    "for i in range(0,n1+1):\n",
    "    b=int(input(\"Enter the elt:\"))\n",
    "    a.append(b)\n",
    "n2=int(input(\"Enter the no. of elts in 2nd list:\"))\n",
    "for j in range(0,n2+1):\n",
    "    d==int(input(\"Enter the elt:\"))\n",
    "    c.append(d)\n",
    "new=a+c\n",
    "new.sort()\n",
    "print(\"sorted list:\",new)"
   ]
  },
  {
   "cell_type": "code",
   "execution_count": null,
   "metadata": {},
   "outputs": [],
   "source": []
  }
 ],
 "metadata": {
  "kernelspec": {
   "display_name": "Python 3",
   "language": "python",
   "name": "python3"
  },
  "language_info": {
   "codemirror_mode": {
    "name": "ipython",
    "version": 3
   },
   "file_extension": ".py",
   "mimetype": "text/x-python",
   "name": "python",
   "nbconvert_exporter": "python",
   "pygments_lexer": "ipython3",
   "version": "3.8.5"
  }
 },
 "nbformat": 4,
 "nbformat_minor": 4
}
